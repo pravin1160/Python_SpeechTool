{
  "nbformat": 4,
  "nbformat_minor": 0,
  "metadata": {
    "colab": {
      "provenance": [],
      "authorship_tag": "ABX9TyPIR3PPiEtRlnOzH3HPCQmD",
      "include_colab_link": true
    },
    "kernelspec": {
      "name": "python3",
      "display_name": "Python 3"
    },
    "language_info": {
      "name": "python"
    }
  },
  "cells": [
    {
      "cell_type": "markdown",
      "metadata": {
        "id": "view-in-github",
        "colab_type": "text"
      },
      "source": [
        "<a href=\"https://colab.research.google.com/github/pravin1160/Python_SpeechTool/blob/main/11LabDeep.ipynb\" target=\"_parent\"><img src=\"https://colab.research.google.com/assets/colab-badge.svg\" alt=\"Open In Colab\"/></a>"
      ]
    },
    {
      "cell_type": "code",
      "execution_count": null,
      "metadata": {
        "colab": {
          "base_uri": "https://localhost:8080/"
        },
        "id": "2OraFE5dN5xl",
        "outputId": "4f809c8a-a66c-4a45-c890-e09c6a3e299a"
      },
      "outputs": [
        {
          "output_type": "stream",
          "name": "stdout",
          "text": [
            "Collecting yt-dlp\n",
            "  Downloading yt_dlp-2024.9.27-py3-none-any.whl.metadata (171 kB)\n",
            "\u001b[2K     \u001b[90m━━━━━━━━━━━━━━━━━━━━━━━━━━━━━━━━━━━━━━━━\u001b[0m \u001b[32m171.2/171.2 kB\u001b[0m \u001b[31m1.4 MB/s\u001b[0m eta \u001b[36m0:00:00\u001b[0m\n",
            "\u001b[?25hCollecting brotli (from yt-dlp)\n",
            "  Downloading Brotli-1.1.0-cp310-cp310-manylinux_2_5_x86_64.manylinux1_x86_64.manylinux_2_12_x86_64.manylinux2010_x86_64.whl.metadata (5.5 kB)\n",
            "Requirement already satisfied: certifi in /usr/local/lib/python3.10/dist-packages (from yt-dlp) (2024.8.30)\n",
            "Collecting mutagen (from yt-dlp)\n",
            "  Downloading mutagen-1.47.0-py3-none-any.whl.metadata (1.7 kB)\n",
            "Collecting pycryptodomex (from yt-dlp)\n",
            "  Downloading pycryptodomex-3.20.0-cp35-abi3-manylinux_2_17_x86_64.manylinux2014_x86_64.whl.metadata (3.4 kB)\n",
            "Requirement already satisfied: requests<3,>=2.32.2 in /usr/local/lib/python3.10/dist-packages (from yt-dlp) (2.32.3)\n",
            "Requirement already satisfied: urllib3<3,>=1.26.17 in /usr/local/lib/python3.10/dist-packages (from yt-dlp) (2.2.3)\n",
            "Collecting websockets>=13.0 (from yt-dlp)\n",
            "  Downloading websockets-13.1-cp310-cp310-manylinux_2_5_x86_64.manylinux1_x86_64.manylinux_2_17_x86_64.manylinux2014_x86_64.whl.metadata (6.8 kB)\n",
            "Requirement already satisfied: charset-normalizer<4,>=2 in /usr/local/lib/python3.10/dist-packages (from requests<3,>=2.32.2->yt-dlp) (3.3.2)\n",
            "Requirement already satisfied: idna<4,>=2.5 in /usr/local/lib/python3.10/dist-packages (from requests<3,>=2.32.2->yt-dlp) (3.10)\n",
            "Downloading yt_dlp-2024.9.27-py3-none-any.whl (3.1 MB)\n",
            "\u001b[2K   \u001b[90m━━━━━━━━━━━━━━━━━━━━━━━━━━━━━━━━━━━━━━━━\u001b[0m \u001b[32m3.1/3.1 MB\u001b[0m \u001b[31m19.0 MB/s\u001b[0m eta \u001b[36m0:00:00\u001b[0m\n",
            "\u001b[?25hDownloading websockets-13.1-cp310-cp310-manylinux_2_5_x86_64.manylinux1_x86_64.manylinux_2_17_x86_64.manylinux2014_x86_64.whl (164 kB)\n",
            "\u001b[2K   \u001b[90m━━━━━━━━━━━━━━━━━━━━━━━━━━━━━━━━━━━━━━━━\u001b[0m \u001b[32m164.1/164.1 kB\u001b[0m \u001b[31m9.4 MB/s\u001b[0m eta \u001b[36m0:00:00\u001b[0m\n",
            "\u001b[?25hDownloading Brotli-1.1.0-cp310-cp310-manylinux_2_5_x86_64.manylinux1_x86_64.manylinux_2_12_x86_64.manylinux2010_x86_64.whl (3.0 MB)\n",
            "\u001b[2K   \u001b[90m━━━━━━━━━━━━━━━━━━━━━━━━━━━━━━━━━━━━━━━━\u001b[0m \u001b[32m3.0/3.0 MB\u001b[0m \u001b[31m53.0 MB/s\u001b[0m eta \u001b[36m0:00:00\u001b[0m\n",
            "\u001b[?25hDownloading mutagen-1.47.0-py3-none-any.whl (194 kB)\n",
            "\u001b[2K   \u001b[90m━━━━━━━━━━━━━━━━━━━━━━━━━━━━━━━━━━━━━━━━\u001b[0m \u001b[32m194.4/194.4 kB\u001b[0m \u001b[31m13.0 MB/s\u001b[0m eta \u001b[36m0:00:00\u001b[0m\n",
            "\u001b[?25hDownloading pycryptodomex-3.20.0-cp35-abi3-manylinux_2_17_x86_64.manylinux2014_x86_64.whl (2.1 MB)\n",
            "\u001b[2K   \u001b[90m━━━━━━━━━━━━━━━━━━━━━━━━━━━━━━━━━━━━━━━━\u001b[0m \u001b[32m2.1/2.1 MB\u001b[0m \u001b[31m55.6 MB/s\u001b[0m eta \u001b[36m0:00:00\u001b[0m\n",
            "\u001b[?25hInstalling collected packages: brotli, websockets, pycryptodomex, mutagen, yt-dlp\n",
            "Successfully installed brotli-1.1.0 mutagen-1.47.0 pycryptodomex-3.20.0 websockets-13.1 yt-dlp-2024.9.27\n",
            "Requirement already satisfied: moviepy in /usr/local/lib/python3.10/dist-packages (1.0.3)\n",
            "Requirement already satisfied: decorator<5.0,>=4.0.2 in /usr/local/lib/python3.10/dist-packages (from moviepy) (4.4.2)\n",
            "Requirement already satisfied: tqdm<5.0,>=4.11.2 in /usr/local/lib/python3.10/dist-packages (from moviepy) (4.66.5)\n",
            "Requirement already satisfied: requests<3.0,>=2.8.1 in /usr/local/lib/python3.10/dist-packages (from moviepy) (2.32.3)\n",
            "Requirement already satisfied: proglog<=1.0.0 in /usr/local/lib/python3.10/dist-packages (from moviepy) (0.1.10)\n",
            "Requirement already satisfied: numpy>=1.17.3 in /usr/local/lib/python3.10/dist-packages (from moviepy) (1.26.4)\n",
            "Requirement already satisfied: imageio<3.0,>=2.5 in /usr/local/lib/python3.10/dist-packages (from moviepy) (2.35.1)\n",
            "Requirement already satisfied: imageio-ffmpeg>=0.2.0 in /usr/local/lib/python3.10/dist-packages (from moviepy) (0.5.1)\n",
            "Requirement already satisfied: pillow>=8.3.2 in /usr/local/lib/python3.10/dist-packages (from imageio<3.0,>=2.5->moviepy) (10.4.0)\n",
            "Requirement already satisfied: setuptools in /usr/local/lib/python3.10/dist-packages (from imageio-ffmpeg>=0.2.0->moviepy) (71.0.4)\n",
            "Requirement already satisfied: charset-normalizer<4,>=2 in /usr/local/lib/python3.10/dist-packages (from requests<3.0,>=2.8.1->moviepy) (3.3.2)\n",
            "Requirement already satisfied: idna<4,>=2.5 in /usr/local/lib/python3.10/dist-packages (from requests<3.0,>=2.8.1->moviepy) (3.10)\n",
            "Requirement already satisfied: urllib3<3,>=1.21.1 in /usr/local/lib/python3.10/dist-packages (from requests<3.0,>=2.8.1->moviepy) (2.2.3)\n",
            "Requirement already satisfied: certifi>=2017.4.17 in /usr/local/lib/python3.10/dist-packages (from requests<3.0,>=2.8.1->moviepy) (2024.8.30)\n",
            "Requirement already satisfied: requests in /usr/local/lib/python3.10/dist-packages (2.32.3)\n",
            "Requirement already satisfied: charset-normalizer<4,>=2 in /usr/local/lib/python3.10/dist-packages (from requests) (3.3.2)\n",
            "Requirement already satisfied: idna<4,>=2.5 in /usr/local/lib/python3.10/dist-packages (from requests) (3.10)\n",
            "Requirement already satisfied: urllib3<3,>=1.21.1 in /usr/local/lib/python3.10/dist-packages (from requests) (2.2.3)\n",
            "Requirement already satisfied: certifi>=2017.4.17 in /usr/local/lib/python3.10/dist-packages (from requests) (2024.8.30)\n",
            "Collecting pydub\n",
            "  Downloading pydub-0.25.1-py2.py3-none-any.whl.metadata (1.4 kB)\n",
            "Downloading pydub-0.25.1-py2.py3-none-any.whl (32 kB)\n",
            "Installing collected packages: pydub\n",
            "Successfully installed pydub-0.25.1\n",
            "Reading package lists... Done\n",
            "Building dependency tree... Done\n",
            "Reading state information... Done\n",
            "ffmpeg is already the newest version (7:4.4.2-0ubuntu0.22.04.1).\n",
            "0 upgraded, 0 newly installed, 0 to remove and 49 not upgraded.\n"
          ]
        }
      ],
      "source": [
        "!pip install yt-dlp\n",
        "!pip install moviepy\n",
        "!pip install requests\n",
        "!pip install pydub\n",
        "!apt-get install ffmpeg -y"
      ]
    },
    {
      "cell_type": "code",
      "source": [
        "import os\n",
        "import yt_dlp\n",
        "from moviepy.editor import VideoFileClip\n",
        "import requests\n",
        "from pydub import AudioSegment\n",
        "from IPython.display import Audio\n",
        "DEEPGRAM_API_KEY = '6919a8a357e8d7ffaf49fabfef9d255a08070fbc'\n",
        "ELEVENLABS_API_KEY = 'sk_1dd9ab97579aa62cccdf24c699c78ef3fe7eafb7b7d2afad'\n",
        "YOUTUBE_VIDEO_URL = 'https://www.youtube.com/watch?v=_CWcBWSKItk'\n",
        "\n",
        "def download_youtube_video_yt_dlp(url, output_path='video.mp4'):\n",
        "    ydl_opts = {\n",
        "        'format': 'bestvideo+bestaudio/best',\n",
        "        'outtmpl': output_path,\n",
        "        'merge_output_format': 'mp4',\n",
        "        'noplaylist': True,\n",
        "    }\n",
        "    try:\n",
        "        with yt_dlp.YoutubeDL(ydl_opts) as ydl:\n",
        "            print(f\"Downloading video from: {url}\")\n",
        "            ydl.download([url])\n",
        "        print(f\"Video downloaded successfully and saved as {output_path}\")\n",
        "        return output_path\n",
        "    except Exception as e:\n",
        "        print(f\"An error occurred while downloading the video: {e}\")\n",
        "        return None\n",
        "\n",
        "video_file = download_youtube_video_yt_dlp(\"https://www.youtube.com/watch?v=_CWcBWSKItk\")\n"
      ],
      "metadata": {
        "colab": {
          "base_uri": "https://localhost:8080/"
        },
        "id": "h1S1VTkIOikl",
        "outputId": "aa099565-dae4-426b-bbdf-63d7f1a2c27f"
      },
      "execution_count": null,
      "outputs": [
        {
          "output_type": "stream",
          "name": "stdout",
          "text": [
            "Downloading video from: https://www.youtube.com/watch?v=_CWcBWSKItk\n",
            "[youtube] Extracting URL: https://www.youtube.com/watch?v=_CWcBWSKItk\n",
            "[youtube] _CWcBWSKItk: Downloading webpage\n",
            "[youtube] _CWcBWSKItk: Downloading ios player API JSON\n",
            "[youtube] _CWcBWSKItk: Downloading web creator player API JSON\n",
            "[youtube] _CWcBWSKItk: Downloading player d9418494\n",
            "[youtube] _CWcBWSKItk: Downloading m3u8 information\n",
            "[info] _CWcBWSKItk: Downloading 1 format(s): 616+251\n",
            "[hlsnative] Downloading m3u8 manifest\n",
            "[hlsnative] Total fragments: 167\n",
            "[download] Destination: video.f616.mp4\n",
            "[download] 100% of  282.67MiB in 00:00:20 at 13.74MiB/s                  \n",
            "[download] Destination: video.f251.webm\n",
            "[download] 100% of   15.74MiB in 00:00:00 at 39.61MiB/s  \n",
            "[Merger] Merging formats into \"video.mp4\"\n",
            "Deleting original file video.f616.mp4 (pass -k to keep)\n",
            "Deleting original file video.f251.webm (pass -k to keep)\n",
            "Video downloaded successfully and saved as video.mp4\n"
          ]
        }
      ]
    },
    {
      "cell_type": "code",
      "source": [
        "def extract_audio(video_path, audio_path='audio.wav'):\n",
        "    try:\n",
        "        print(f\"Extracting audio from {video_path}\")\n",
        "        video = VideoFileClip(video_path)\n",
        "        video.audio.write_audiofile(audio_path, codec='pcm_s16le')\n",
        "        print(f\"Audio extracted and saved as {audio_path}\")\n",
        "        return audio_path\n",
        "    except Exception as e:\n",
        "        print(f\"An error occurred while extracting audio: {e}\")\n",
        "        return None\n",
        "\n",
        "audio_file = extract_audio(video_file)"
      ],
      "metadata": {
        "colab": {
          "base_uri": "https://localhost:8080/"
        },
        "id": "Y7fK0QmVP611",
        "outputId": "ca582d9a-64ad-4296-8a93-f92f8ec5a098"
      },
      "execution_count": null,
      "outputs": [
        {
          "output_type": "stream",
          "name": "stdout",
          "text": [
            "Extracting audio from video.mp4\n",
            "MoviePy - Writing audio in audio.wav\n"
          ]
        },
        {
          "output_type": "stream",
          "name": "stderr",
          "text": [
            "                                                                        "
          ]
        },
        {
          "output_type": "stream",
          "name": "stdout",
          "text": [
            "MoviePy - Done.\n",
            "Audio extracted and saved as audio.wav\n"
          ]
        },
        {
          "output_type": "stream",
          "name": "stderr",
          "text": [
            "\r"
          ]
        }
      ]
    },
    {
      "cell_type": "code",
      "source": [
        "def extract_audio(video_path, audio_path='audio.wav'):\n",
        "    try:\n",
        "        print(f\"Extracting audio from {video_path}\")\n",
        "        video = VideoFileClip(video_path)\n",
        "        video.audio.write_audiofile(audio_path, codec='pcm_s16le')\n",
        "        print(f\"Audio extracted and saved as {audio_path}\")\n",
        "        return audio_path\n",
        "    except Exception as e:\n",
        "        print(f\"An error occurred while extracting audio: {e}\")\n",
        "        return None\n",
        "\n",
        "audio_file = extract_audio(video_file)"
      ],
      "metadata": {
        "colab": {
          "base_uri": "https://localhost:8080/"
        },
        "id": "wfjobyOGQfhw",
        "outputId": "39546f8d-2410-4267-c923-43bf1f0e225e"
      },
      "execution_count": null,
      "outputs": [
        {
          "output_type": "stream",
          "name": "stdout",
          "text": [
            "Extracting audio from video.mp4\n",
            "MoviePy - Writing audio in audio.wav\n"
          ]
        },
        {
          "output_type": "stream",
          "name": "stderr",
          "text": []
        },
        {
          "output_type": "stream",
          "name": "stdout",
          "text": [
            "MoviePy - Done.\n",
            "Audio extracted and saved as audio.wav\n"
          ]
        }
      ]
    },
    {
      "cell_type": "code",
      "source": [
        "def transcribe_audio_deepgram(audio_path, api_key):\n",
        "    try:\n",
        "        print(\"Transcribing audio using Deepgram API...\")\n",
        "        with open(audio_path, 'rb') as audio:\n",
        "            response = requests.post(\n",
        "                'https://api.deepgram.com/v1/listen',\n",
        "                headers={\n",
        "                    'Authorization': f'Token {api_key}',\n",
        "                    'Content-Type': 'application/octet-stream'\n",
        "                },\n",
        "                params={\n",
        "                    'encoding': 'linear16',\n",
        "                    'sample_rate': 44100,\n",
        "                    'language': 'en-US'\n",
        "                },\n",
        "                data=audio\n",
        "            )\n",
        "        response.raise_for_status()\n",
        "        transcript = response.json()['results']['channels'][0]['alternatives'][0]['transcript']\n",
        "        print(\"Transcription completed successfully.\")\n",
        "        return transcript\n",
        "    except Exception as e:\n",
        "        print(f\"An error occurred during transcription: {e}\")\n",
        "        return None\n",
        "\n",
        "transcript_text = transcribe_audio_deepgram(audio_file, DEEPGRAM_API_KEY)\n",
        "print(\"\\n=== Transcribed Text ===\\n\")\n",
        "print(transcript_text)"
      ],
      "metadata": {
        "colab": {
          "base_uri": "https://localhost:8080/"
        },
        "id": "dTWwy9rnRS0_",
        "outputId": "d806e3ab-b565-4474-9bec-0e7d151676d9"
      },
      "execution_count": null,
      "outputs": [
        {
          "output_type": "stream",
          "name": "stdout",
          "text": [
            "Transcribing audio using Deepgram API...\n",
            "Transcription completed successfully.\n",
            "\n",
            "=== Transcribed Text ===\n",
            "\n",
            "\n"
          ]
        }
      ]
    },
    {
      "cell_type": "code",
      "source": [
        "def generate_audio_elevenlabs(text, api_key, voice_id='IKne3meq5aSn9XLyUdCD', output_path='generated_audio.mp3'):\n",
        "    try:\n",
        "        print(\"Generating audio using Eleven Labs API...\")\n",
        "        url = f'https://api.elevenlabs.io/v1/text-to-speech/IKne3meq5aSn9XLyUdCD'\n",
        "        headers = {\n",
        "            'Accept': 'audio/mpeg',\n",
        "            'Content-Type': 'application/json',\n",
        "            'xi-api-key': api_key\n",
        "        }\n",
        "        data = {\n",
        "            'text': text,\n",
        "            'voice_settings': {\n",
        "                'stability': 0.5,\n",
        "                'similarity_boost': 0.75\n",
        "            }\n",
        "        }\n",
        "        response = requests.post(url, headers=headers, json=data)\n",
        "        response.raise_for_status()\n",
        "        with open(output_path, 'wb') as f:\n",
        "            f.write(response.content)\n",
        "        print(f\"Audio generated and saved as {output_path}\")\n",
        "        return output_path\n",
        "    except Exception as e:\n",
        "        print(f\"An error occurred during audio generation: {e}\")\n",
        "        return None\n",
        "\n",
        "# Note: Replace 'YOUR_VOICE_ID' with the actual voice ID from Eleven Labs\n",
        "VOICE_ID = 'IKne3meq5aSn9XLyUdCD'\n",
        "\n",
        "generated_audio = generate_audio_elevenlabs(transcript_text, ELEVENLABS_API_KEY, VOICE_ID)"
      ],
      "metadata": {
        "colab": {
          "base_uri": "https://localhost:8080/"
        },
        "id": "jXuyMX7bS486",
        "outputId": "574e1d06-28a9-44bc-9e5c-9b6d30262542"
      },
      "execution_count": null,
      "outputs": [
        {
          "output_type": "stream",
          "name": "stdout",
          "text": [
            "Generating audio using Eleven Labs API...\n",
            "Audio generated and saved as generated_audio.mp3\n"
          ]
        }
      ]
    },
    {
      "cell_type": "code",
      "source": [
        "if generated_audio:\n",
        "    print(\"\\n=== Playing Generated Audio ===\\n\")\n",
        "    display(Audio(generated_audio))"
      ],
      "metadata": {
        "colab": {
          "base_uri": "https://localhost:8080/",
          "height": 127
        },
        "id": "oX2vzuk3TLFu",
        "outputId": "5b921e1d-5208-4b03-88b3-8c8b9383333d"
      },
      "execution_count": null,
      "outputs": [
        {
          "output_type": "stream",
          "name": "stdout",
          "text": [
            "\n",
            "=== Playing Generated Audio ===\n",
            "\n"
          ]
        },
        {
          "output_type": "display_data",
          "data": {
            "text/plain": [
              "<IPython.lib.display.Audio object>"
            ],
            "text/html": [
              "\n",
              "                <audio  controls=\"controls\" >\n",
              "                    <source src=\"data:audio/mpeg;base64,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\" type=\"audio/mpeg\" />\n",
              "                    Your browser does not support the audio element.\n",
              "                </audio>\n",
              "              "
            ]
          },
          "metadata": {}
        }
      ]
    },
    {
      "cell_type": "code",
      "source": [
        "# Install required libraries\n",
        "!pip install pytube moviepy requests\n",
        "\n",
        "import os\n",
        "from pytube import YouTube\n",
        "from moviepy.editor import AudioFileClip\n",
        "import requests\n",
        "\n",
        "# Set your API keys securely\n",
        "# Option 1: Direct assignment (not recommended for shared notebooks)\n",
        "# os.environ['DEEPGRAM_API_KEY'] = 'your_deepgram_api_key_here'\n",
        "# os.environ['ELEVENLABS_API_KEY'] = 'your_elevenlabs_api_key_here'\n",
        "\n",
        "# Option 2: Using Colab's secret management (preferred)\n",
        "# (Set the secrets via Colab interface)\n",
        "\n",
        "DEEPGRAM_API_KEY = os.environ.get('DEEPGRAM_API_KEY')\n",
        "ELEVENLABS_API_KEY = os.environ.get('ELEVENLABS_API_KEY')\n",
        "VOICE_ID = '29vD33N1CtxCmqQRPOHJ'  # Your Eleven Labs Voice ID\n",
        "\n",
        "# 1. Download YouTube video\n",
        "youtube_url = 'https://www.youtube.com/watch?v=iraezTzB938'\n",
        "yt = YouTube(youtube_url)\n",
        "audio_stream = yt.streams.filter(only_audio=True).first()\n",
        "download_path = audio_stream.download(filename='downloaded_audio')\n",
        "print(\"YouTube video downloaded successfully.\")\n",
        "\n",
        "# 2. Extract audio (if necessary)\n",
        "input_audio = 'downloaded_audio'\n",
        "output_audio = 'audio.wav'\n",
        "audio_clip = AudioFileClip(input_audio)\n",
        "audio_clip.write_audiofile(output_audio)\n",
        "print(\"Audio extracted and saved as audio.wav.\")\n",
        "\n",
        "# 3. Transcribe audio using Deepgram\n",
        "def transcribe_audio(file_path, api_key):\n",
        "    url = 'https://api.deepgram.com/v1/listen'\n",
        "    headers = {'Authorization': f'Token {api_key}'}\n",
        "    with open(file_path, 'rb') as audio_file:\n",
        "        response = requests.post(url, headers=headers, data=audio_file)\n",
        "    if response.status_code == 200:\n",
        "        return response.json()\n",
        "    else:\n",
        "        print(f\"Deepgram API Error: {response.status_code}\")\n",
        "        print(response.text)\n",
        "        return None\n",
        "\n",
        "transcription_result = transcribe_audio(output_audio, DEEPGRAM_API_KEY)\n",
        "\n",
        "if transcription_result:\n",
        "    transcript = transcription_result['results']['channels'][0]['alternatives'][0]['transcript']\n",
        "    print(\"Transcription successful:\")\n",
        "    print(transcript)\n",
        "else:\n",
        "    print(\"Transcription failed.\")\n",
        "\n",
        "# 4. Generate audio using Eleven Labs\n",
        "def generate_audio(text, api_key, voice_id, output_file='output_audio.mp3'):\n",
        "    url = f'https://api.elevenlabs.io/v1/text-to-speech/{voice_id}'\n",
        "    headers = {\n",
        "        'Accept': 'audio/mpeg',\n",
        "        'Content-Type': 'application/json',\n",
        "        'xi-api-key': api_key\n",
        "    }\n",
        "    data = {'text': text}\n",
        "    response = requests.post(url, headers=headers, json=data)\n",
        "    if response.status_code == 200:\n",
        "        with open(output_file, 'wb') as audio_file:\n",
        "            audio_file.write(response.content)\n",
        "        print(f\"Audio generated and saved as {output_file}.\")\n",
        "    else:\n",
        "        print(f\"Eleven Labs API Error: {response.status_code}\")\n",
        "        print(response.text)\n",
        "\n",
        "if transcription_result:\n",
        "    generate_audio(transcript, ELEVENLABS_API_KEY, VOICE_ID)\n"
      ],
      "metadata": {
        "id": "7pTf3jAcWZ9o"
      },
      "execution_count": null,
      "outputs": []
    }
  ]
}